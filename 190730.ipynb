{
 "cells": [
  {
   "cell_type": "code",
   "execution_count": 7,
   "metadata": {},
   "outputs": [
    {
     "name": "stdout",
     "output_type": "stream",
     "text": [
      "2012\n",
      "1\n"
     ]
    }
   ],
   "source": [
    "#2753번 윤년 문제\n",
    "year = int(input())\n",
    "\n",
    "if year % 4 == 0:\n",
    "    if year % 100 != 0 or year % 400 == 0:\n",
    "        print(1)\n",
    "    else:\n",
    "        print(0)\n",
    "else:\n",
    "    print(0)"
   ]
  },
  {
   "cell_type": "code",
   "execution_count": 5,
   "metadata": {},
   "outputs": [
    {
     "name": "stdout",
     "output_type": "stream",
     "text": [
      "1900\n",
      "0\n"
     ]
    }
   ],
   "source": [
    "year = int(input())\n",
    "\n",
    "if year % 4 == 0 and year % 100 != 0:\n",
    "    print('1')\n",
    "elif year % 4 == 0 and year % 400 == 0:\n",
    "    print('1')\n",
    "else:\n",
    "    print('0')"
   ]
  },
  {
   "cell_type": "code",
   "execution_count": 45,
   "metadata": {},
   "outputs": [
    {
     "name": "stdout",
     "output_type": "stream",
     "text": [
      "10 10\n",
      "9 25\n"
     ]
    }
   ],
   "source": [
    "#2884번 알람시계\n",
    "time = input()\n",
    "t = time.split()\n",
    "h = int(t[0])\n",
    "m = int(t[-1])\n",
    "\n",
    "if h != 0:\n",
    "    if m < 45:\n",
    "        h = h-1\n",
    "        m = m + 15\n",
    "        print(h, m)\n",
    "    else:\n",
    "        m = m -45\n",
    "        print(h, m)\n",
    "else:\n",
    "    if m < 45:\n",
    "        h = 23\n",
    "        m = m + 15\n",
    "        print(h, m)\n",
    "    else:\n",
    "        m = m -45\n",
    "        print(h, m)"
   ]
  },
  {
   "cell_type": "code",
   "execution_count": 31,
   "metadata": {},
   "outputs": [
    {
     "name": "stdout",
     "output_type": "stream",
     "text": [
      "20 30 10\n",
      "20\n"
     ]
    }
   ],
   "source": [
    "#10817번\n",
    "number = input()\n",
    "num_list = list(map(int,number.split(' ')))\n",
    "num_list.sort()\n",
    "print(num_list[1])"
   ]
  },
  {
   "cell_type": "code",
   "execution_count": 67,
   "metadata": {},
   "outputs": [
    {
     "name": "stdout",
     "output_type": "stream",
     "text": [
      "10 20 10\n",
      "10\n"
     ]
    }
   ],
   "source": [
    "#10817번\n",
    "number = input()\n",
    "num_list = list(map(int,number.split(' ')))\n",
    "a = num_list[0]\n",
    "b = num_list[1]\n",
    "c = num_list[2]\n",
    "if a > b:\n",
    "    if a < c:\n",
    "        print(a)\n",
    "    else:\n",
    "        if c > b:\n",
    "            print(c)\n",
    "        else:\n",
    "            print(b)\n",
    "else:\n",
    "    if a > c:\n",
    "        print(a)\n",
    "    else:\n",
    "        if c > b:\n",
    "            print(b)\n",
    "        else:\n",
    "            print(c)"
   ]
  },
  {
   "cell_type": "code",
   "execution_count": null,
   "metadata": {},
   "outputs": [],
   "source": [
    "number = input()\n",
    "number = list()"
   ]
  },
  {
   "cell_type": "code",
   "execution_count": 75,
   "metadata": {},
   "outputs": [
    {
     "name": "stdout",
     "output_type": "stream",
     "text": [
      "10 10\n",
      "==\n"
     ]
    }
   ],
   "source": [
    "#1330\n",
    "numbers = input()\n",
    "num_list=list(map(int,numbers.split(' ')))\n",
    "A = num_list[0]\n",
    "B = num_list[1]\n",
    "if A > B :\n",
    "    print('>')\n",
    "elif A < B:\n",
    "    print('<')\n",
    "else:\n",
    "    print('==')"
   ]
  },
  {
   "cell_type": "code",
   "execution_count": 85,
   "metadata": {},
   "outputs": [
    {
     "name": "stdout",
     "output_type": "stream",
     "text": [
      "99\n",
      "A\n"
     ]
    }
   ],
   "source": [
    "#9498\n",
    "score = int(input())\n",
    "\n",
    "if 100 >= score >= 90:\n",
    "    print('A')\n",
    "elif 80 <= score <= 89:\n",
    "    print('B')\n",
    "elif 70 <= score <= 79:\n",
    "    print('C')\n",
    "elif 60 <= score <= 69:\n",
    "    print('D')\n",
    "else:\n",
    "    print('F')"
   ]
  },
  {
   "cell_type": "code",
   "execution_count": 87,
   "metadata": {},
   "outputs": [
    {
     "name": "stdout",
     "output_type": "stream",
     "text": [
      "5\n",
      "5\n",
      "4\n",
      "3\n",
      "2\n",
      "1\n"
     ]
    }
   ],
   "source": [
    "#2741\n",
    "num = int(input())\n",
    "for i in range(num,0,-1):\n",
    "    print(i)"
   ]
  },
  {
   "cell_type": "code",
   "execution_count": 89,
   "metadata": {},
   "outputs": [
    {
     "name": "stdout",
     "output_type": "stream",
     "text": [
      "5\n",
      "1\n",
      "2\n",
      "3\n",
      "4\n",
      "5\n"
     ]
    }
   ],
   "source": [
    "#2741\n",
    "num = int(input())\n",
    "for i in range(1,num+1):\n",
    "    print(i)"
   ]
  },
  {
   "cell_type": "code",
   "execution_count": 12,
   "metadata": {},
   "outputs": [
    {
     "name": "stdout",
     "output_type": "stream",
     "text": [
      "3\n",
      "1 1\n",
      "Case #1: 2\n",
      "1 2\n",
      "Case #2: 3\n",
      "2 3\n",
      "Case #3: 5\n"
     ]
    }
   ],
   "source": [
    "#11021\n",
    "t = input()\n",
    "for i in range(int(t)):\n",
    "    b = input()\n",
    "    num_list=list(map(int,b.split(' ')))\n",
    "    A = num_list[0]\n",
    "    B = num_list[1]\n",
    "    print(f'Case #{i+1}: {A+B}')"
   ]
  }
 ],
 "metadata": {
  "kernelspec": {
   "display_name": "Python 3",
   "language": "python",
   "name": "python3"
  },
  "language_info": {
   "codemirror_mode": {
    "name": "ipython",
    "version": 3
   },
   "file_extension": ".py",
   "mimetype": "text/x-python",
   "name": "python",
   "nbconvert_exporter": "python",
   "pygments_lexer": "ipython3",
   "version": "3.7.3"
  }
 },
 "nbformat": 4,
 "nbformat_minor": 2
}
