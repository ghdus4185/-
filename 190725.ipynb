{
 "cells": [
  {
   "cell_type": "code",
   "execution_count": null,
   "metadata": {},
   "outputs": [],
   "source": [
    "print('Hello World!')"
   ]
  },
  {
   "cell_type": "code",
   "execution_count": null,
   "metadata": {},
   "outputs": [],
   "source": [
    "print('강한친구 대한육군')\n",
    "print('강한친구 대한육군')"
   ]
  },
  {
   "cell_type": "code",
   "execution_count": null,
   "metadata": {},
   "outputs": [],
   "source": [
    "print(\"\\\\    /\\\\\")\n",
    "print(\" )  ( ')\")\n",
    "print(\"(  /  )\")\n",
    "print(\" \\\\(__)|\")"
   ]
  },
  {
   "cell_type": "code",
   "execution_count": null,
   "metadata": {},
   "outputs": [],
   "source": [
    "cat =r'''\\    /\\\n",
    " )  ( ')\n",
    "(  /  )\n",
    " \\(__)|\n",
    "'''\n",
    "print(cat)"
   ]
  },
  {
   "cell_type": "code",
   "execution_count": null,
   "metadata": {},
   "outputs": [],
   "source": [
    "print('|\\\\_/|')\n",
    "print('|q p|   |}')\n",
    "print('( a )\"\"\"\\\\')\n",
    "print('|\"^\"`    |')\n",
    "print('||_/=\\\\\\\\__|')"
   ]
  },
  {
   "cell_type": "code",
   "execution_count": null,
   "metadata": {},
   "outputs": [],
   "source": [
    "dog =r'''|\\_/|\n",
    "|q p|   /}\n",
    "( 0 )\"\"\"\\\n",
    "|\"^\"`    |\n",
    "||_/=\\\\__|\n",
    "'''\n",
    "print(dog)"
   ]
  },
  {
   "cell_type": "code",
   "execution_count": 4,
   "metadata": {},
   "outputs": [
    {
     "name": "stdout",
     "output_type": "stream",
     "text": [
      "1 2\n",
      "3\n"
     ]
    }
   ],
   "source": [
    "#1000번\n",
    "numbers = input()\n",
    "nums = list(map(int,numbers.split(' ')))\n",
    "print(int(nums[0])+int(nums[1]))"
   ]
  },
  {
   "cell_type": "code",
   "execution_count": 5,
   "metadata": {},
   "outputs": [
    {
     "name": "stdout",
     "output_type": "stream",
     "text": [
      "1 2\n",
      "3\n"
     ]
    }
   ],
   "source": [
    "numbers = input()\n",
    "inputs = list(map(int, numbers.split(' ')))\n",
    "# total = sum(inputs)\n",
    "# total = 0\n",
    "# for i in 0\n",
    "print(inputs[0] + inputs[1])"
   ]
  },
  {
   "cell_type": "code",
   "execution_count": 9,
   "metadata": {},
   "outputs": [
    {
     "name": "stdout",
     "output_type": "stream",
     "text": [
      "3 2\n",
      "1\n"
     ]
    }
   ],
   "source": [
    "#1001번\n",
    "numbers = input()\n",
    "nums = list(map(int, numbers.split(' ')))\n",
    "print(nums[0] - nums[1])"
   ]
  },
  {
   "cell_type": "code",
   "execution_count": 15,
   "metadata": {},
   "outputs": [
    {
     "name": "stdout",
     "output_type": "stream",
     "text": [
      "3 4\n",
      "12\n"
     ]
    }
   ],
   "source": [
    "#10998번\n",
    "numbers = input()\n",
    "num = list(map(int, numbers.split()))\n",
    "print(num[0] * num[1])"
   ]
  },
  {
   "cell_type": "code",
   "execution_count": 18,
   "metadata": {},
   "outputs": [
    {
     "name": "stdout",
     "output_type": "stream",
     "text": [
      "5 3\n",
      "1.6666666666666667\n"
     ]
    }
   ],
   "source": [
    "#1008번\n",
    "numbers = input()\n",
    "num = list(map(int, numbers.split()))\n",
    "print(num[0] / num[1])"
   ]
  },
  {
   "cell_type": "code",
   "execution_count": 46,
   "metadata": {},
   "outputs": [
    {
     "name": "stdout",
     "output_type": "stream",
     "text": [
      "48 86\n",
      "[48, 86]\n",
      "134\n",
      "-38\n",
      "4128\n",
      "0\n",
      "48\n"
     ]
    }
   ],
   "source": [
    "#10869번\n",
    "number = input()\n",
    "num = list(map(int, number.split()))\n",
    "print(num)\n",
    "print(num[0] + num[1])\n",
    "print(num[0] - num[1])\n",
    "print(num[0] * num[1])\n",
    "print(num[0] // num[1])\n",
    "print(num[0] % num[1])\n"
   ]
  },
  {
   "cell_type": "code",
   "execution_count": 24,
   "metadata": {},
   "outputs": [
    {
     "name": "stdout",
     "output_type": "stream",
     "text": [
      "5 8 4\n",
      "1\n",
      "1\n",
      "0\n",
      "0\n"
     ]
    }
   ],
   "source": [
    "#10430번\n",
    "number = input()\n",
    "num = list(map(int, number.split()))\n",
    "print((num[0]+num[1])%num[2])\n",
    "print((num[0]%num[2]+num[1]%num[2])%num[2])\n",
    "print((num[0] * num[1]) % num[2])\n",
    "print(((num[0] % num[2]) * (num[1] % num[2])) % num[2])"
   ]
  },
  {
   "cell_type": "code",
   "execution_count": 44,
   "metadata": {},
   "outputs": [
    {
     "name": "stdout",
     "output_type": "stream",
     "text": [
      "472\n",
      "385\n",
      "2360\n",
      "3776\n",
      "1416\n",
      "181720\n"
     ]
    }
   ],
   "source": [
    "#2588번\n",
    "num1 = int(input())\n",
    "num2 = input()\n",
    "for i in range(2,-1,-1):\n",
    "    print((num1) * int(num2[i]))\n",
    "print(int(num1) * int(num2))"
   ]
  },
  {
   "cell_type": "code",
   "execution_count": 43,
   "metadata": {},
   "outputs": [
    {
     "name": "stdout",
     "output_type": "stream",
     "text": [
      "472\n",
      "385\n",
      "2360\n",
      "3776\n",
      "1416\n",
      "181720\n"
     ]
    }
   ],
   "source": [
    "#2588번\n",
    "num1 = int(input())\n",
    "num2 = input()\n",
    "multi = 0\n",
    "for i in range(2,-1,-1):\n",
    "    print((num1) * int(num2[i]))\n",
    "    multi = multi + (num1) * int(num2[i]) * 10**(2-i)\n",
    "print(multi)"
   ]
  }
 ],
 "metadata": {
  "kernelspec": {
   "display_name": "Python 3",
   "language": "python",
   "name": "python3"
  },
  "language_info": {
   "codemirror_mode": {
    "name": "ipython",
    "version": 3
   },
   "file_extension": ".py",
   "mimetype": "text/x-python",
   "name": "python",
   "nbconvert_exporter": "python",
   "pygments_lexer": "ipython3",
   "version": "3.7.3"
  }
 },
 "nbformat": 4,
 "nbformat_minor": 2
}
